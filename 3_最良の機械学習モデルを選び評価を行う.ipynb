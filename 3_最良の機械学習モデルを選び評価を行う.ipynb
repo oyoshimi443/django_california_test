{
 "cells": [
  {
   "cell_type": "markdown",
   "metadata": {},
   "source": [
    "# データの準備"
   ]
  },
  {
   "cell_type": "code",
   "execution_count": 1,
   "metadata": {},
   "outputs": [],
   "source": [
    "import pandas as pd\n",
    "import numpy as np\n",
    "import matplotlib.pyplot as plt\n",
    "import seaborn as sns\n",
    "sns.set_style('whitegrid')\n",
    "\n",
    "from sklearn.datasets import fetch_california_housing\n",
    "from sklearn.model_selection import train_test_split"
   ]
  },
  {
   "cell_type": "code",
   "execution_count": 2,
   "metadata": {},
   "outputs": [
    {
     "data": {
      "text/plain": [
       "((16512, 8), (4128, 8))"
      ]
     },
     "execution_count": 2,
     "metadata": {},
     "output_type": "execute_result"
    }
   ],
   "source": [
    "housing = fetch_california_housing()\n",
    "\n",
    "X = pd.DataFrame(housing.data, columns=housing.feature_names)\n",
    "y = pd.DataFrame(housing.target, columns=['Price'])\n",
    "\n",
    "# データを分割\n",
    "X_train, X_test, y_train, y_test = train_test_split(X, y, test_size=0.2, random_state=42)\n",
    "\n",
    "# データ数をチェック\n",
    "X_train.shape, X_test.shape"
   ]
  },
  {
   "cell_type": "code",
   "execution_count": 3,
   "metadata": {},
   "outputs": [
    {
     "data": {
      "text/html": [
       "<div>\n",
       "<style scoped>\n",
       "    .dataframe tbody tr th:only-of-type {\n",
       "        vertical-align: middle;\n",
       "    }\n",
       "\n",
       "    .dataframe tbody tr th {\n",
       "        vertical-align: top;\n",
       "    }\n",
       "\n",
       "    .dataframe thead th {\n",
       "        text-align: right;\n",
       "    }\n",
       "</style>\n",
       "<table border=\"1\" class=\"dataframe\">\n",
       "  <thead>\n",
       "    <tr style=\"text-align: right;\">\n",
       "      <th></th>\n",
       "      <th>MedInc</th>\n",
       "      <th>HouseAge</th>\n",
       "      <th>AveRooms</th>\n",
       "      <th>AveBedrms</th>\n",
       "      <th>Population</th>\n",
       "      <th>AveOccup</th>\n",
       "      <th>Latitude</th>\n",
       "      <th>Longitude</th>\n",
       "      <th>Price</th>\n",
       "    </tr>\n",
       "  </thead>\n",
       "  <tbody>\n",
       "    <tr>\n",
       "      <th>count</th>\n",
       "      <td>16512.000000</td>\n",
       "      <td>16512.000000</td>\n",
       "      <td>16512.000000</td>\n",
       "      <td>16512.000000</td>\n",
       "      <td>16512.000000</td>\n",
       "      <td>16512.000000</td>\n",
       "      <td>16512.000000</td>\n",
       "      <td>16512.000000</td>\n",
       "      <td>16512.000000</td>\n",
       "    </tr>\n",
       "    <tr>\n",
       "      <th>mean</th>\n",
       "      <td>3.880754</td>\n",
       "      <td>28.608285</td>\n",
       "      <td>5.435235</td>\n",
       "      <td>1.096685</td>\n",
       "      <td>1426.453004</td>\n",
       "      <td>3.096961</td>\n",
       "      <td>35.643149</td>\n",
       "      <td>-119.582290</td>\n",
       "      <td>2.071947</td>\n",
       "    </tr>\n",
       "    <tr>\n",
       "      <th>std</th>\n",
       "      <td>1.904294</td>\n",
       "      <td>12.602499</td>\n",
       "      <td>2.387375</td>\n",
       "      <td>0.433215</td>\n",
       "      <td>1137.056380</td>\n",
       "      <td>11.578744</td>\n",
       "      <td>2.136665</td>\n",
       "      <td>2.005654</td>\n",
       "      <td>1.156226</td>\n",
       "    </tr>\n",
       "    <tr>\n",
       "      <th>min</th>\n",
       "      <td>0.499900</td>\n",
       "      <td>1.000000</td>\n",
       "      <td>0.888889</td>\n",
       "      <td>0.333333</td>\n",
       "      <td>3.000000</td>\n",
       "      <td>0.692308</td>\n",
       "      <td>32.550000</td>\n",
       "      <td>-124.350000</td>\n",
       "      <td>0.149990</td>\n",
       "    </tr>\n",
       "    <tr>\n",
       "      <th>25%</th>\n",
       "      <td>2.566700</td>\n",
       "      <td>18.000000</td>\n",
       "      <td>4.452055</td>\n",
       "      <td>1.006508</td>\n",
       "      <td>789.000000</td>\n",
       "      <td>2.428799</td>\n",
       "      <td>33.930000</td>\n",
       "      <td>-121.810000</td>\n",
       "      <td>1.198000</td>\n",
       "    </tr>\n",
       "    <tr>\n",
       "      <th>50%</th>\n",
       "      <td>3.545800</td>\n",
       "      <td>29.000000</td>\n",
       "      <td>5.235874</td>\n",
       "      <td>1.049286</td>\n",
       "      <td>1167.000000</td>\n",
       "      <td>2.817240</td>\n",
       "      <td>34.260000</td>\n",
       "      <td>-118.510000</td>\n",
       "      <td>1.798500</td>\n",
       "    </tr>\n",
       "    <tr>\n",
       "      <th>75%</th>\n",
       "      <td>4.773175</td>\n",
       "      <td>37.000000</td>\n",
       "      <td>6.061037</td>\n",
       "      <td>1.100348</td>\n",
       "      <td>1726.000000</td>\n",
       "      <td>3.280000</td>\n",
       "      <td>37.720000</td>\n",
       "      <td>-118.010000</td>\n",
       "      <td>2.651250</td>\n",
       "    </tr>\n",
       "    <tr>\n",
       "      <th>max</th>\n",
       "      <td>15.000100</td>\n",
       "      <td>52.000000</td>\n",
       "      <td>141.909091</td>\n",
       "      <td>25.636364</td>\n",
       "      <td>35682.000000</td>\n",
       "      <td>1243.333333</td>\n",
       "      <td>41.950000</td>\n",
       "      <td>-114.310000</td>\n",
       "      <td>5.000010</td>\n",
       "    </tr>\n",
       "  </tbody>\n",
       "</table>\n",
       "</div>"
      ],
      "text/plain": [
       "             MedInc      HouseAge      AveRooms     AveBedrms    Population  \\\n",
       "count  16512.000000  16512.000000  16512.000000  16512.000000  16512.000000   \n",
       "mean       3.880754     28.608285      5.435235      1.096685   1426.453004   \n",
       "std        1.904294     12.602499      2.387375      0.433215   1137.056380   \n",
       "min        0.499900      1.000000      0.888889      0.333333      3.000000   \n",
       "25%        2.566700     18.000000      4.452055      1.006508    789.000000   \n",
       "50%        3.545800     29.000000      5.235874      1.049286   1167.000000   \n",
       "75%        4.773175     37.000000      6.061037      1.100348   1726.000000   \n",
       "max       15.000100     52.000000    141.909091     25.636364  35682.000000   \n",
       "\n",
       "           AveOccup      Latitude     Longitude         Price  \n",
       "count  16512.000000  16512.000000  16512.000000  16512.000000  \n",
       "mean       3.096961     35.643149   -119.582290      2.071947  \n",
       "std       11.578744      2.136665      2.005654      1.156226  \n",
       "min        0.692308     32.550000   -124.350000      0.149990  \n",
       "25%        2.428799     33.930000   -121.810000      1.198000  \n",
       "50%        2.817240     34.260000   -118.510000      1.798500  \n",
       "75%        3.280000     37.720000   -118.010000      2.651250  \n",
       "max     1243.333333     41.950000   -114.310000      5.000010  "
      ]
     },
     "execution_count": 3,
     "metadata": {},
     "output_type": "execute_result"
    }
   ],
   "source": [
    "# 説明変数と目的変数をそれぞれpandasのデータフレームに格納\n",
    "train_set = pd.concat([X_train, y_train], axis=1)\n",
    "test_set = pd.concat([X_test, y_test], axis=1)\n",
    "\n",
    "# 訓練データの要約統計量\n",
    "train_set.describe()"
   ]
  },
  {
   "cell_type": "code",
   "execution_count": 4,
   "metadata": {},
   "outputs": [
    {
     "data": {
      "text/html": [
       "<div>\n",
       "<style scoped>\n",
       "    .dataframe tbody tr th:only-of-type {\n",
       "        vertical-align: middle;\n",
       "    }\n",
       "\n",
       "    .dataframe tbody tr th {\n",
       "        vertical-align: top;\n",
       "    }\n",
       "\n",
       "    .dataframe thead th {\n",
       "        text-align: right;\n",
       "    }\n",
       "</style>\n",
       "<table border=\"1\" class=\"dataframe\">\n",
       "  <thead>\n",
       "    <tr style=\"text-align: right;\">\n",
       "      <th></th>\n",
       "      <th>MedInc</th>\n",
       "      <th>HouseAge</th>\n",
       "      <th>AveRooms</th>\n",
       "      <th>AveBedrms</th>\n",
       "      <th>Population</th>\n",
       "      <th>AveOccup</th>\n",
       "      <th>Latitude</th>\n",
       "      <th>Longitude</th>\n",
       "      <th>Price</th>\n",
       "    </tr>\n",
       "  </thead>\n",
       "  <tbody>\n",
       "    <tr>\n",
       "      <th>count</th>\n",
       "      <td>4128.000000</td>\n",
       "      <td>4128.000000</td>\n",
       "      <td>4128.000000</td>\n",
       "      <td>4128.000000</td>\n",
       "      <td>4128.000000</td>\n",
       "      <td>4128.000000</td>\n",
       "      <td>4128.00000</td>\n",
       "      <td>4128.00000</td>\n",
       "      <td>4128.000000</td>\n",
       "    </tr>\n",
       "    <tr>\n",
       "      <th>mean</th>\n",
       "      <td>3.830338</td>\n",
       "      <td>28.764293</td>\n",
       "      <td>5.404059</td>\n",
       "      <td>1.096637</td>\n",
       "      <td>1421.571705</td>\n",
       "      <td>2.965431</td>\n",
       "      <td>35.58671</td>\n",
       "      <td>-119.51936</td>\n",
       "      <td>2.055003</td>\n",
       "    </tr>\n",
       "    <tr>\n",
       "      <th>std</th>\n",
       "      <td>1.881515</td>\n",
       "      <td>12.518304</td>\n",
       "      <td>2.794717</td>\n",
       "      <td>0.610196</td>\n",
       "      <td>1114.023136</td>\n",
       "      <td>1.753316</td>\n",
       "      <td>2.13276</td>\n",
       "      <td>1.99447</td>\n",
       "      <td>1.144870</td>\n",
       "    </tr>\n",
       "    <tr>\n",
       "      <th>min</th>\n",
       "      <td>0.499900</td>\n",
       "      <td>1.000000</td>\n",
       "      <td>0.846154</td>\n",
       "      <td>0.500000</td>\n",
       "      <td>8.000000</td>\n",
       "      <td>1.263566</td>\n",
       "      <td>32.54000</td>\n",
       "      <td>-124.19000</td>\n",
       "      <td>0.149990</td>\n",
       "    </tr>\n",
       "    <tr>\n",
       "      <th>25%</th>\n",
       "      <td>2.548500</td>\n",
       "      <td>18.000000</td>\n",
       "      <td>4.396633</td>\n",
       "      <td>1.004338</td>\n",
       "      <td>781.000000</td>\n",
       "      <td>2.435365</td>\n",
       "      <td>33.93000</td>\n",
       "      <td>-121.69000</td>\n",
       "      <td>1.192750</td>\n",
       "    </tr>\n",
       "    <tr>\n",
       "      <th>50%</th>\n",
       "      <td>3.500000</td>\n",
       "      <td>29.000000</td>\n",
       "      <td>5.192764</td>\n",
       "      <td>1.046715</td>\n",
       "      <td>1160.000000</td>\n",
       "      <td>2.823586</td>\n",
       "      <td>34.23000</td>\n",
       "      <td>-118.47000</td>\n",
       "      <td>1.786500</td>\n",
       "    </tr>\n",
       "    <tr>\n",
       "      <th>75%</th>\n",
       "      <td>4.645925</td>\n",
       "      <td>37.000000</td>\n",
       "      <td>6.008889</td>\n",
       "      <td>1.095908</td>\n",
       "      <td>1722.000000</td>\n",
       "      <td>3.289374</td>\n",
       "      <td>37.70000</td>\n",
       "      <td>-117.99000</td>\n",
       "      <td>2.630000</td>\n",
       "    </tr>\n",
       "    <tr>\n",
       "      <th>max</th>\n",
       "      <td>15.000100</td>\n",
       "      <td>52.000000</td>\n",
       "      <td>132.533333</td>\n",
       "      <td>34.066667</td>\n",
       "      <td>16122.000000</td>\n",
       "      <td>83.171429</td>\n",
       "      <td>41.81000</td>\n",
       "      <td>-114.58000</td>\n",
       "      <td>5.000010</td>\n",
       "    </tr>\n",
       "  </tbody>\n",
       "</table>\n",
       "</div>"
      ],
      "text/plain": [
       "            MedInc     HouseAge     AveRooms    AveBedrms    Population  \\\n",
       "count  4128.000000  4128.000000  4128.000000  4128.000000   4128.000000   \n",
       "mean      3.830338    28.764293     5.404059     1.096637   1421.571705   \n",
       "std       1.881515    12.518304     2.794717     0.610196   1114.023136   \n",
       "min       0.499900     1.000000     0.846154     0.500000      8.000000   \n",
       "25%       2.548500    18.000000     4.396633     1.004338    781.000000   \n",
       "50%       3.500000    29.000000     5.192764     1.046715   1160.000000   \n",
       "75%       4.645925    37.000000     6.008889     1.095908   1722.000000   \n",
       "max      15.000100    52.000000   132.533333    34.066667  16122.000000   \n",
       "\n",
       "          AveOccup    Latitude   Longitude        Price  \n",
       "count  4128.000000  4128.00000  4128.00000  4128.000000  \n",
       "mean      2.965431    35.58671  -119.51936     2.055003  \n",
       "std       1.753316     2.13276     1.99447     1.144870  \n",
       "min       1.263566    32.54000  -124.19000     0.149990  \n",
       "25%       2.435365    33.93000  -121.69000     1.192750  \n",
       "50%       2.823586    34.23000  -118.47000     1.786500  \n",
       "75%       3.289374    37.70000  -117.99000     2.630000  \n",
       "max      83.171429    41.81000  -114.58000     5.000010  "
      ]
     },
     "execution_count": 4,
     "metadata": {},
     "output_type": "execute_result"
    }
   ],
   "source": [
    "# 検証用データの要約統計量\n",
    "test_set.describe()"
   ]
  },
  {
   "cell_type": "markdown",
   "metadata": {},
   "source": [
    "テストセットは未知のデータとするので、最後の評価用にとっておき、**訓練データセット**を前処理します。"
   ]
  },
  {
   "cell_type": "code",
   "execution_count": 5,
   "metadata": {},
   "outputs": [],
   "source": [
    "def round_number(df):\n",
    "    \"\"\"\n",
    "    指定された属性の値を四捨五入し整数に置き換える\n",
    "    \"\"\"\n",
    "    ave_columns = ['AveRooms', 'AveBedrms', 'AveOccup']\n",
    "\n",
    "    for col in ave_columns:\n",
    "        df[col] = np.round(df[col])\n",
    "    return df\n",
    "\n",
    "# dfを返す"
   ]
  },
  {
   "cell_type": "code",
   "execution_count": 6,
   "metadata": {},
   "outputs": [],
   "source": [
    "def std_exclude(df):\n",
    "    \"\"\"\n",
    "    標準偏差の２倍以上の値は取り除く\n",
    "    \"\"\"\n",
    "    columns = df[['MedInc', 'AveRooms', 'Population', 'AveOccup']].columns\n",
    "\n",
    "    for col in columns:\n",
    "        mean = df[col].mean()\n",
    "        std = df[col].std()\n",
    "        boder = np.abs(df[col] - mean) / std\n",
    "        df = df[(boder < 2)]\n",
    "\n",
    "    return df\n",
    "\n",
    "# dfを返す"
   ]
  },
  {
   "cell_type": "code",
   "execution_count": 7,
   "metadata": {},
   "outputs": [],
   "source": [
    "def category(df):\n",
    "    \"\"\"\n",
    "   その区域の人口は、少ない（few）か、普通（usually）か、多い（many）か。\n",
    "    大体のの区域では600人から3000人ということから、この範囲を指標とする。\n",
    "    \"\"\"\n",
    "    if df < 600:\n",
    "        return 'few'\n",
    "    elif df > 3000:\n",
    "        return 'many'\n",
    "    else:\n",
    "        return 'usually'\n",
    "\n",
    "# dfを返す"
   ]
  },
  {
   "cell_type": "code",
   "execution_count": 8,
   "metadata": {},
   "outputs": [],
   "source": [
    "\"\"\" 上３つの関数をまとめたカスタム変換器\"\"\"\n",
    "def custom_conversion(dataframe):\n",
    "    df = dataframe.copy()\n",
    "    df = round_number(df)\n",
    "\n",
    "    # サンプルの調査ミスとして取り除く\n",
    "    df = df[df['HouseAge'] < 52]\n",
    "\n",
    "    # サンプルの調査ミスとして取り除く\n",
    "    df = df[df['Price'] < 5]\n",
    "    df = std_exclude(df)\n",
    "\n",
    "    # 平均部屋数に対して平均寝室数を比較する\n",
    "    df['Bedrms_per_Rooms'] = df['AveBedrms'] / df['AveRooms']\n",
    "    df['Population_Feature'] = df['Population'].apply(category)\n",
    "\n",
    "    # カテゴリー属性をダミー変数化する\n",
    "    feature_dummies = pd.get_dummies(df['Population_Feature'], drop_first=True)\n",
    "    df = pd.concat([df, feature_dummies], axis=1)\n",
    "\n",
    "    # Xを説明変数、yを目的変数に代入しておく\n",
    "    X = df.drop(['AveBedrms', 'Price', 'Population_Feature'], axis=1)\n",
    "    y = df['Price']\n",
    "\n",
    "    return X, y"
   ]
  },
  {
   "cell_type": "code",
   "execution_count": 9,
   "metadata": {},
   "outputs": [],
   "source": [
    "X, y = custom_conversion(train_set)"
   ]
  },
  {
   "cell_type": "code",
   "execution_count": 10,
   "metadata": {},
   "outputs": [
    {
     "data": {
      "text/html": [
       "<div>\n",
       "<style scoped>\n",
       "    .dataframe tbody tr th:only-of-type {\n",
       "        vertical-align: middle;\n",
       "    }\n",
       "\n",
       "    .dataframe tbody tr th {\n",
       "        vertical-align: top;\n",
       "    }\n",
       "\n",
       "    .dataframe thead th {\n",
       "        text-align: right;\n",
       "    }\n",
       "</style>\n",
       "<table border=\"1\" class=\"dataframe\">\n",
       "  <thead>\n",
       "    <tr style=\"text-align: right;\">\n",
       "      <th></th>\n",
       "      <th>MedInc</th>\n",
       "      <th>HouseAge</th>\n",
       "      <th>AveRooms</th>\n",
       "      <th>Population</th>\n",
       "      <th>AveOccup</th>\n",
       "      <th>Latitude</th>\n",
       "      <th>Longitude</th>\n",
       "      <th>Bedrms_per_Rooms</th>\n",
       "      <th>many</th>\n",
       "      <th>usually</th>\n",
       "    </tr>\n",
       "  </thead>\n",
       "  <tbody>\n",
       "    <tr>\n",
       "      <th>count</th>\n",
       "      <td>13463.000000</td>\n",
       "      <td>13463.000000</td>\n",
       "      <td>13463.000000</td>\n",
       "      <td>13463.000000</td>\n",
       "      <td>13463.000000</td>\n",
       "      <td>13463.000000</td>\n",
       "      <td>13463.000000</td>\n",
       "      <td>13463.000000</td>\n",
       "      <td>13463.000000</td>\n",
       "      <td>13463.000000</td>\n",
       "    </tr>\n",
       "    <tr>\n",
       "      <th>mean</th>\n",
       "      <td>3.527003</td>\n",
       "      <td>27.753027</td>\n",
       "      <td>5.149892</td>\n",
       "      <td>1327.312783</td>\n",
       "      <td>2.934561</td>\n",
       "      <td>35.623993</td>\n",
       "      <td>-119.526978</td>\n",
       "      <td>0.207091</td>\n",
       "      <td>0.035950</td>\n",
       "      <td>0.840897</td>\n",
       "    </tr>\n",
       "    <tr>\n",
       "      <th>std</th>\n",
       "      <td>1.339388</td>\n",
       "      <td>11.232520</td>\n",
       "      <td>1.117769</td>\n",
       "      <td>723.261191</td>\n",
       "      <td>0.759399</td>\n",
       "      <td>2.157767</td>\n",
       "      <td>1.984480</td>\n",
       "      <td>0.054631</td>\n",
       "      <td>0.186173</td>\n",
       "      <td>0.365785</td>\n",
       "    </tr>\n",
       "    <tr>\n",
       "      <th>min</th>\n",
       "      <td>0.643300</td>\n",
       "      <td>1.000000</td>\n",
       "      <td>1.000000</td>\n",
       "      <td>6.000000</td>\n",
       "      <td>1.000000</td>\n",
       "      <td>32.550000</td>\n",
       "      <td>-124.300000</td>\n",
       "      <td>0.000000</td>\n",
       "      <td>0.000000</td>\n",
       "      <td>0.000000</td>\n",
       "    </tr>\n",
       "    <tr>\n",
       "      <th>25%</th>\n",
       "      <td>2.492050</td>\n",
       "      <td>18.000000</td>\n",
       "      <td>4.000000</td>\n",
       "      <td>810.000000</td>\n",
       "      <td>2.000000</td>\n",
       "      <td>33.930000</td>\n",
       "      <td>-121.590000</td>\n",
       "      <td>0.166667</td>\n",
       "      <td>0.000000</td>\n",
       "      <td>1.000000</td>\n",
       "    </tr>\n",
       "    <tr>\n",
       "      <th>50%</th>\n",
       "      <td>3.380400</td>\n",
       "      <td>28.000000</td>\n",
       "      <td>5.000000</td>\n",
       "      <td>1183.000000</td>\n",
       "      <td>3.000000</td>\n",
       "      <td>34.260000</td>\n",
       "      <td>-118.470000</td>\n",
       "      <td>0.200000</td>\n",
       "      <td>0.000000</td>\n",
       "      <td>1.000000</td>\n",
       "    </tr>\n",
       "    <tr>\n",
       "      <th>75%</th>\n",
       "      <td>4.456150</td>\n",
       "      <td>36.000000</td>\n",
       "      <td>6.000000</td>\n",
       "      <td>1699.000000</td>\n",
       "      <td>3.000000</td>\n",
       "      <td>37.680000</td>\n",
       "      <td>-118.000000</td>\n",
       "      <td>0.250000</td>\n",
       "      <td>0.000000</td>\n",
       "      <td>1.000000</td>\n",
       "    </tr>\n",
       "    <tr>\n",
       "      <th>max</th>\n",
       "      <td>6.841900</td>\n",
       "      <td>51.000000</td>\n",
       "      <td>9.000000</td>\n",
       "      <td>3806.000000</td>\n",
       "      <td>5.000000</td>\n",
       "      <td>41.950000</td>\n",
       "      <td>-114.550000</td>\n",
       "      <td>1.000000</td>\n",
       "      <td>1.000000</td>\n",
       "      <td>1.000000</td>\n",
       "    </tr>\n",
       "  </tbody>\n",
       "</table>\n",
       "</div>"
      ],
      "text/plain": [
       "             MedInc      HouseAge      AveRooms    Population      AveOccup  \\\n",
       "count  13463.000000  13463.000000  13463.000000  13463.000000  13463.000000   \n",
       "mean       3.527003     27.753027      5.149892   1327.312783      2.934561   \n",
       "std        1.339388     11.232520      1.117769    723.261191      0.759399   \n",
       "min        0.643300      1.000000      1.000000      6.000000      1.000000   \n",
       "25%        2.492050     18.000000      4.000000    810.000000      2.000000   \n",
       "50%        3.380400     28.000000      5.000000   1183.000000      3.000000   \n",
       "75%        4.456150     36.000000      6.000000   1699.000000      3.000000   \n",
       "max        6.841900     51.000000      9.000000   3806.000000      5.000000   \n",
       "\n",
       "           Latitude     Longitude  Bedrms_per_Rooms          many  \\\n",
       "count  13463.000000  13463.000000      13463.000000  13463.000000   \n",
       "mean      35.623993   -119.526978          0.207091      0.035950   \n",
       "std        2.157767      1.984480          0.054631      0.186173   \n",
       "min       32.550000   -124.300000          0.000000      0.000000   \n",
       "25%       33.930000   -121.590000          0.166667      0.000000   \n",
       "50%       34.260000   -118.470000          0.200000      0.000000   \n",
       "75%       37.680000   -118.000000          0.250000      0.000000   \n",
       "max       41.950000   -114.550000          1.000000      1.000000   \n",
       "\n",
       "            usually  \n",
       "count  13463.000000  \n",
       "mean       0.840897  \n",
       "std        0.365785  \n",
       "min        0.000000  \n",
       "25%        1.000000  \n",
       "50%        1.000000  \n",
       "75%        1.000000  \n",
       "max        1.000000  "
      ]
     },
     "execution_count": 10,
     "metadata": {},
     "output_type": "execute_result"
    }
   ],
   "source": [
    "X.describe()"
   ]
  },
  {
   "cell_type": "code",
   "execution_count": 11,
   "metadata": {},
   "outputs": [],
   "source": [
    "from sklearn.preprocessing import StandardScaler\n",
    "\n",
    "scaler = StandardScaler()\n",
    "X_s = scaler.fit_transform(X)"
   ]
  },
  {
   "cell_type": "markdown",
   "metadata": {},
   "source": [
    "# 複雑な機械学習モデルを使って訓練を行う"
   ]
  },
  {
   "cell_type": "code",
   "execution_count": 12,
   "metadata": {},
   "outputs": [],
   "source": [
    "# LinearRegression で検証\n",
    "from sklearn.linear_model import LinearRegression\n",
    "from sklearn.metrics import mean_squared_error"
   ]
  },
  {
   "cell_type": "code",
   "execution_count": 13,
   "metadata": {},
   "outputs": [
    {
     "data": {
      "text/plain": [
       "0.5754619586800496"
      ]
     },
     "execution_count": 13,
     "metadata": {},
     "output_type": "execute_result"
    }
   ],
   "source": [
    "lin_reg = LinearRegression()\n",
    "lin_reg.fit(X_s, y)\n",
    "\n",
    "lin_pred = lin_reg.predict(X_s)\n",
    "lin_mse = mean_squared_error(y, lin_pred)\n",
    "lin_rmse = np.sqrt(lin_mse)\n",
    "lin_rmse"
   ]
  },
  {
   "cell_type": "markdown",
   "metadata": {},
   "source": [
    "## 複数のモデルで検証する\n",
    "## 1_SVM（サポートベクトルマシン）"
   ]
  },
  {
   "cell_type": "code",
   "execution_count": 14,
   "metadata": {},
   "outputs": [
    {
     "data": {
      "text/plain": [
       "0.4970621662313965"
      ]
     },
     "execution_count": 14,
     "metadata": {},
     "output_type": "execute_result"
    }
   ],
   "source": [
    "from sklearn.svm import SVR\n",
    "\n",
    "svm_reg = SVR()\n",
    "svm_reg.fit(X_s, y)\n",
    "\n",
    "svm_pred = svm_reg.predict(X_s)\n",
    "svm_mse = mean_squared_error(y, svm_pred)\n",
    "svm_rmse = np.sqrt(svm_mse)\n",
    "svm_rmse"
   ]
  },
  {
   "cell_type": "markdown",
   "metadata": {},
   "source": [
    "## 2_RandomForest（ランダムフォレスト）"
   ]
  },
  {
   "cell_type": "code",
   "execution_count": 15,
   "metadata": {},
   "outputs": [
    {
     "data": {
      "text/plain": [
       "0.1619785783725724"
      ]
     },
     "execution_count": 15,
     "metadata": {},
     "output_type": "execute_result"
    }
   ],
   "source": [
    "from sklearn.ensemble import RandomForestRegressor\n",
    "\n",
    "forest_reg = RandomForestRegressor(n_estimators=100, random_state=42)\n",
    "forest_reg.fit(X_s, y)\n",
    "\n",
    "forest_pred = forest_reg.predict(X_s)\n",
    "forest_mse = mean_squared_error(y, forest_pred)\n",
    "forest_rmse = np.sqrt(forest_mse)\n",
    "forest_rmse"
   ]
  },
  {
   "cell_type": "markdown",
   "metadata": {},
   "source": [
    "## 3_GradientBoostingTree（勾配ブースティング決定木）"
   ]
  },
  {
   "cell_type": "code",
   "execution_count": 16,
   "metadata": {},
   "outputs": [
    {
     "data": {
      "text/plain": [
       "0.4628402048901585"
      ]
     },
     "execution_count": 16,
     "metadata": {},
     "output_type": "execute_result"
    }
   ],
   "source": [
    "from sklearn.ensemble import GradientBoostingRegressor\n",
    "\n",
    "gb_reg = GradientBoostingRegressor(random_state=42)\n",
    "gb_reg.fit(X_s, y)\n",
    "\n",
    "gb_pred = gb_reg.predict(X_s)\n",
    "gb_mse = mean_squared_error(y, gb_pred)\n",
    "gb_rmse = np.sqrt(gb_mse)\n",
    "gb_rmse\n"
   ]
  },
  {
   "cell_type": "markdown",
   "metadata": {},
   "source": [
    "## 4_MLP（マルチレイヤーパーセプトロン）"
   ]
  },
  {
   "cell_type": "code",
   "execution_count": 17,
   "metadata": {},
   "outputs": [
    {
     "data": {
      "text/plain": [
       "0.4682285084580455"
      ]
     },
     "execution_count": 17,
     "metadata": {},
     "output_type": "execute_result"
    }
   ],
   "source": [
    "from sklearn.neural_network import MLPRegressor\n",
    "\n",
    "mlp_reg = MLPRegressor(max_iter=300, random_state=42)\n",
    "mlp_reg.fit(X_s, y)\n",
    "\n",
    "mlp_pred = mlp_reg.predict(X_s)\n",
    "mlp_mse = mean_squared_error(y, mlp_pred)\n",
    "mlp_rmse = np.sqrt(mlp_mse)\n",
    "mlp_rmse"
   ]
  },
  {
   "cell_type": "code",
   "execution_count": 18,
   "metadata": {},
   "outputs": [
    {
     "data": {
      "text/html": [
       "<div>\n",
       "<style scoped>\n",
       "    .dataframe tbody tr th:only-of-type {\n",
       "        vertical-align: middle;\n",
       "    }\n",
       "\n",
       "    .dataframe tbody tr th {\n",
       "        vertical-align: top;\n",
       "    }\n",
       "\n",
       "    .dataframe thead th {\n",
       "        text-align: right;\n",
       "    }\n",
       "</style>\n",
       "<table border=\"1\" class=\"dataframe\">\n",
       "  <thead>\n",
       "    <tr style=\"text-align: right;\">\n",
       "      <th></th>\n",
       "      <th>Normal</th>\n",
       "    </tr>\n",
       "  </thead>\n",
       "  <tbody>\n",
       "    <tr>\n",
       "      <th>SVM</th>\n",
       "      <td>0.497062</td>\n",
       "    </tr>\n",
       "    <tr>\n",
       "      <th>RandomForest</th>\n",
       "      <td>0.161979</td>\n",
       "    </tr>\n",
       "    <tr>\n",
       "      <th>GBoost</th>\n",
       "      <td>0.462840</td>\n",
       "    </tr>\n",
       "    <tr>\n",
       "      <th>MLP</th>\n",
       "      <td>0.468229</td>\n",
       "    </tr>\n",
       "  </tbody>\n",
       "</table>\n",
       "</div>"
      ],
      "text/plain": [
       "                Normal\n",
       "SVM           0.497062\n",
       "RandomForest  0.161979\n",
       "GBoost        0.462840\n",
       "MLP           0.468229"
      ]
     },
     "execution_count": 18,
     "metadata": {},
     "output_type": "execute_result"
    }
   ],
   "source": [
    "accuracy = pd.DataFrame([svm_rmse, forest_rmse, gb_rmse, mlp_rmse],\n",
    "                         index=['SVM', 'RandomForest', 'GBoost', 'MLP'], columns=['Normal'])\n",
    "accuracy"
   ]
  },
  {
   "cell_type": "markdown",
   "metadata": {},
   "source": [
    "# 交差検証を使って再度評価を行う\n",
    "## SVM（交差検証）"
   ]
  },
  {
   "cell_type": "code",
   "execution_count": 19,
   "metadata": {},
   "outputs": [
    {
     "data": {
      "text/plain": [
       "array([-0.26520524, -0.25643939, -0.2596777 , -0.27091169, -0.27895904])"
      ]
     },
     "execution_count": 19,
     "metadata": {},
     "output_type": "execute_result"
    }
   ],
   "source": [
    "from sklearn.model_selection import cross_val_score\n",
    "\n",
    " # scornigは評価方法。ここでは平均二乗誤差\n",
    " # cvは検証回数\n",
    "svm_scores = cross_val_score(svm_reg, X_s, y, scoring='neg_mean_squared_error', cv=5)\n",
    "svm_scores\n"
   ]
  },
  {
   "cell_type": "code",
   "execution_count": 20,
   "metadata": {},
   "outputs": [],
   "source": [
    "svm_rmse_score = np.sqrt(-svm_scores)"
   ]
  },
  {
   "cell_type": "code",
   "execution_count": 21,
   "metadata": {},
   "outputs": [],
   "source": [
    "def display_scores(scores):\n",
    "    print('Score: ', scores)\n",
    "    print('\\n')\n",
    "    print('Mean: ', scores.mean())\n",
    "    print('\\n')\n",
    "    print('Standard deviation: ', scores.std())"
   ]
  },
  {
   "cell_type": "code",
   "execution_count": 22,
   "metadata": {},
   "outputs": [
    {
     "name": "stdout",
     "output_type": "stream",
     "text": [
      "Score:  [0.51498082 0.50639845 0.50958581 0.52049178 0.52816573]\n",
      "\n",
      "\n",
      "Mean:  0.515924515531181\n",
      "\n",
      "\n",
      "Standard deviation:  0.007778470139615861\n"
     ]
    }
   ],
   "source": [
    "display_scores(svm_rmse_score)"
   ]
  },
  {
   "cell_type": "markdown",
   "metadata": {},
   "source": [
    "## RandamForest（交差検証）"
   ]
  },
  {
   "cell_type": "code",
   "execution_count": 23,
   "metadata": {},
   "outputs": [
    {
     "name": "stdout",
     "output_type": "stream",
     "text": [
      "Score:  [0.43767776 0.44131438 0.42937464 0.44081916 0.44592454]\n",
      "\n",
      "\n",
      "Mean:  0.43902209575948004\n",
      "\n",
      "\n",
      "Standard deviation:  0.005495606730974703\n"
     ]
    }
   ],
   "source": [
    "forest_scores = cross_val_score(forest_reg, X_s, y, scoring='neg_mean_squared_error', cv=5)\n",
    "\n",
    "forest_rmse_score = np.sqrt(-forest_scores)\n",
    "\n",
    "display_scores(forest_rmse_score)"
   ]
  },
  {
   "cell_type": "markdown",
   "metadata": {},
   "source": [
    "## GradientBoosting（交差検証）"
   ]
  },
  {
   "cell_type": "code",
   "execution_count": 24,
   "metadata": {},
   "outputs": [
    {
     "name": "stdout",
     "output_type": "stream",
     "text": [
      "Score:  [0.47812011 0.4643197  0.46411158 0.48587029 0.480453  ]\n",
      "\n",
      "\n",
      "Mean:  0.47457493746782325\n",
      "\n",
      "\n",
      "Standard deviation:  0.008824474136758255\n"
     ]
    }
   ],
   "source": [
    "gb_scores = cross_val_score(gb_reg, X_s, y, scoring='neg_mean_squared_error', cv=5)\n",
    "\n",
    "gb_rmse_score = np.sqrt(-gb_scores)\n",
    "\n",
    "display_scores(gb_rmse_score)"
   ]
  },
  {
   "cell_type": "markdown",
   "metadata": {},
   "source": [
    "## MLP（交差検証）"
   ]
  },
  {
   "cell_type": "code",
   "execution_count": 25,
   "metadata": {},
   "outputs": [
    {
     "name": "stdout",
     "output_type": "stream",
     "text": [
      "Score:  [0.49511224 0.48278609 0.48395667 0.5037626  0.50544144]\n",
      "\n",
      "\n",
      "Mean:  0.49421180941259424\n",
      "\n",
      "\n",
      "Standard deviation:  0.009527304188063293\n"
     ]
    }
   ],
   "source": [
    "mlp_scores = cross_val_score(mlp_reg, X_s, y, scoring='neg_mean_squared_error', cv=5)\n",
    "\n",
    "mlp_rmse_score = np.sqrt(-mlp_scores)\n",
    "\n",
    "display_scores(mlp_rmse_score)"
   ]
  },
  {
   "cell_type": "code",
   "execution_count": 26,
   "metadata": {},
   "outputs": [
    {
     "data": {
      "text/html": [
       "<div>\n",
       "<style scoped>\n",
       "    .dataframe tbody tr th:only-of-type {\n",
       "        vertical-align: middle;\n",
       "    }\n",
       "\n",
       "    .dataframe tbody tr th {\n",
       "        vertical-align: top;\n",
       "    }\n",
       "\n",
       "    .dataframe thead th {\n",
       "        text-align: right;\n",
       "    }\n",
       "</style>\n",
       "<table border=\"1\" class=\"dataframe\">\n",
       "  <thead>\n",
       "    <tr style=\"text-align: right;\">\n",
       "      <th></th>\n",
       "      <th>Normal</th>\n",
       "      <th>CrossValidation</th>\n",
       "    </tr>\n",
       "  </thead>\n",
       "  <tbody>\n",
       "    <tr>\n",
       "      <th>SVM</th>\n",
       "      <td>0.497062</td>\n",
       "      <td>0.515925</td>\n",
       "    </tr>\n",
       "    <tr>\n",
       "      <th>RandomForest</th>\n",
       "      <td>0.161979</td>\n",
       "      <td>0.439022</td>\n",
       "    </tr>\n",
       "    <tr>\n",
       "      <th>GBoost</th>\n",
       "      <td>0.462840</td>\n",
       "      <td>0.474575</td>\n",
       "    </tr>\n",
       "    <tr>\n",
       "      <th>MLP</th>\n",
       "      <td>0.468229</td>\n",
       "      <td>0.494212</td>\n",
       "    </tr>\n",
       "  </tbody>\n",
       "</table>\n",
       "</div>"
      ],
      "text/plain": [
       "                Normal  CrossValidation\n",
       "SVM           0.497062         0.515925\n",
       "RandomForest  0.161979         0.439022\n",
       "GBoost        0.462840         0.474575\n",
       "MLP           0.468229         0.494212"
      ]
     },
     "execution_count": 26,
     "metadata": {},
     "output_type": "execute_result"
    }
   ],
   "source": [
    "accuracy['CrossValidation'] = [svm_rmse_score.mean(),\n",
    "                               forest_rmse_score.mean(),\n",
    "                               gb_rmse_score.mean(),\n",
    "                               mlp_rmse_score.mean()]\n",
    "accuracy"
   ]
  },
  {
   "cell_type": "markdown",
   "metadata": {},
   "source": [
    "# グリッドサーチとランダムサーチ"
   ]
  },
  {
   "cell_type": "code",
   "execution_count": 27,
   "metadata": {},
   "outputs": [
    {
     "data": {
      "text/plain": [
       "GridSearchCV(cv=5, error_score=nan,\n",
       "             estimator=SVR(C=1.0, cache_size=200, coef0=0.0, degree=3,\n",
       "                           epsilon=0.1, gamma='scale', kernel='rbf',\n",
       "                           max_iter=-1, shrinking=True, tol=0.001,\n",
       "                           verbose=False),\n",
       "             iid='deprecated', n_jobs=None,\n",
       "             param_grid=[{'C': [0.001, 0.01, 1, 10], 'gamma': ['auto', 'scale'],\n",
       "                          'kernel': ['rbf', 'linear']}],\n",
       "             pre_dispatch='2*n_jobs', refit=True, return_train_score=False,\n",
       "             scoring='neg_mean_squared_error', verbose=0)"
      ]
     },
     "execution_count": 27,
     "metadata": {},
     "output_type": "execute_result"
    }
   ],
   "source": [
    "# SVM（グリッドサーチ）\n",
    "from sklearn.model_selection import GridSearchCV\n",
    "from sklearn.model_selection import RandomizedSearchCV\n",
    "\n",
    " # C: 正則化の強度\n",
    " # kernel: カーネル関数\n",
    "param_grid = [\n",
    "            {'C': [0.001, 0.01, 1, 10],\n",
    "             'gamma': ['auto', 'scale'],\n",
    "             'kernel': ['rbf', 'linear']}\n",
    "]\n",
    "\n",
    "svm_reg = SVR()\n",
    "\n",
    " # cvは交差検証、scoringは評価方法\n",
    "svm_grid_search = GridSearchCV(svm_reg, param_grid, cv=5, scoring='neg_mean_squared_error')\n",
    "\n",
    "svm_grid_search.fit(X_s, y)"
   ]
  },
  {
   "cell_type": "code",
   "execution_count": 28,
   "metadata": {},
   "outputs": [
    {
     "data": {
      "text/plain": [
       "{'C': 10, 'gamma': 'auto', 'kernel': 'rbf'}"
      ]
     },
     "execution_count": 28,
     "metadata": {},
     "output_type": "execute_result"
    }
   ],
   "source": [
    "svm_grid_search.best_params_"
   ]
  },
  {
   "cell_type": "code",
   "execution_count": 29,
   "metadata": {},
   "outputs": [
    {
     "data": {
      "text/plain": [
       "0.4667832146849867"
      ]
     },
     "execution_count": 29,
     "metadata": {},
     "output_type": "execute_result"
    }
   ],
   "source": [
    "svm_grid_pred = svm_grid_search.best_estimator_.predict(X_s)\n",
    "svm_grid_mse = mean_squared_error(y, svm_grid_pred)\n",
    "svm_grid_rmse = np.sqrt(svm_grid_mse)\n",
    "svm_grid_rmse"
   ]
  },
  {
   "cell_type": "code",
   "execution_count": 30,
   "metadata": {},
   "outputs": [
    {
     "data": {
      "text/plain": [
       "GridSearchCV(cv=5, error_score=nan,\n",
       "             estimator=RandomForestRegressor(bootstrap=True, ccp_alpha=0.0,\n",
       "                                             criterion='mse', max_depth=None,\n",
       "                                             max_features='auto',\n",
       "                                             max_leaf_nodes=None,\n",
       "                                             max_samples=None,\n",
       "                                             min_impurity_decrease=0.0,\n",
       "                                             min_impurity_split=None,\n",
       "                                             min_samples_leaf=1,\n",
       "                                             min_samples_split=2,\n",
       "                                             min_weight_fraction_leaf=0.0,\n",
       "                                             n_estimators=100, n_jobs=None,\n",
       "                                             oob_score=False, random_state=None,\n",
       "                                             verbose=0, warm_start=False),\n",
       "             iid='deprecated', n_jobs=None,\n",
       "             param_grid=[{'max_depth': [5, 6, 7],\n",
       "                          'n_estimators': [300, 400, 500],\n",
       "                          'random_state': [42]}],\n",
       "             pre_dispatch='2*n_jobs', refit=True, return_train_score=False,\n",
       "             scoring='neg_mean_squared_error', verbose=0)"
      ]
     },
     "execution_count": 30,
     "metadata": {},
     "output_type": "execute_result"
    }
   ],
   "source": [
    "# RandomForest（グリッドサーチ）\n",
    "# max_depth: 最大ノード数\n",
    " # n_estimators: 決定木の個数\n",
    "param_grid = [\n",
    "            {'max_depth': [5, 6, 7],\n",
    "             'n_estimators': [300, 400, 500],\n",
    "             'random_state': [42]}\n",
    "]\n",
    "\n",
    " # このように辞書を分割して作成することもできる\n",
    "\"\"\"\n",
    "param_grid = [\n",
    "            {'bootstrap': [True], ......, .......},\n",
    "            {'bootstrap': [False], ....., ......},\n",
    "]\n",
    "\"\"\"\n",
    "\n",
    "forest_reg = RandomForestRegressor()\n",
    "\n",
    "forest_grid_search = GridSearchCV(forest_reg, param_grid, cv=5, scoring='neg_mean_squared_error')\n",
    "\n",
    "forest_grid_search.fit(X_s, y)"
   ]
  },
  {
   "cell_type": "code",
   "execution_count": 31,
   "metadata": {},
   "outputs": [
    {
     "data": {
      "text/plain": [
       "{'max_depth': 7, 'n_estimators': 400, 'random_state': 42}"
      ]
     },
     "execution_count": 31,
     "metadata": {},
     "output_type": "execute_result"
    }
   ],
   "source": [
    "forest_grid_search.best_params_"
   ]
  },
  {
   "cell_type": "code",
   "execution_count": 32,
   "metadata": {},
   "outputs": [
    {
     "data": {
      "text/plain": [
       "0.47944300298066644"
      ]
     },
     "execution_count": 32,
     "metadata": {},
     "output_type": "execute_result"
    }
   ],
   "source": [
    "forest_grid_pred = forest_grid_search.best_estimator_.predict(X_s)\n",
    "forest_grid_mse = mean_squared_error(y, forest_grid_pred)\n",
    "forest_grid_rmse = np.sqrt(forest_grid_mse)\n",
    "forest_grid_rmse"
   ]
  },
  {
   "cell_type": "code",
   "execution_count": 33,
   "metadata": {},
   "outputs": [
    {
     "data": {
      "text/plain": [
       "GridSearchCV(cv=5, error_score=nan,\n",
       "             estimator=GradientBoostingRegressor(alpha=0.9, ccp_alpha=0.0,\n",
       "                                                 criterion='friedman_mse',\n",
       "                                                 init=None, learning_rate=0.1,\n",
       "                                                 loss='ls', max_depth=3,\n",
       "                                                 max_features=None,\n",
       "                                                 max_leaf_nodes=None,\n",
       "                                                 min_impurity_decrease=0.0,\n",
       "                                                 min_impurity_split=None,\n",
       "                                                 min_samples_leaf=1,\n",
       "                                                 min_samples_split=2,\n",
       "                                                 min_weight_fraction_leaf=0.0,\n",
       "                                                 n_estimators=100,\n",
       "                                                 n_iter_no_change=None,\n",
       "                                                 presort='deprecated',\n",
       "                                                 random_state=None,\n",
       "                                                 subsample=1.0, tol=0.0001,\n",
       "                                                 validation_fraction=0.1,\n",
       "                                                 verbose=0, warm_start=False),\n",
       "             iid='deprecated', n_jobs=None,\n",
       "             param_grid=[{'max_depth': [5, 6, 7],\n",
       "                          'n_estimators': [300, 400, 500],\n",
       "                          'random_state': [42]}],\n",
       "             pre_dispatch='2*n_jobs', refit=True, return_train_score=False,\n",
       "             scoring='neg_mean_squared_error', verbose=0)"
      ]
     },
     "execution_count": 33,
     "metadata": {},
     "output_type": "execute_result"
    }
   ],
   "source": [
    "# GradientBoosting（グリッドサーチ）\n",
    " # max_depth: 最大ノード数\n",
    " # n_estimators: 決定木の個数\n",
    "param_grid = [\n",
    "            {'max_depth': [5, 6, 7],\n",
    "             'n_estimators': [300, 400, 500],\n",
    "             'random_state': [42]}\n",
    "]\n",
    "\n",
    "gb_reg = GradientBoostingRegressor()\n",
    "\n",
    "gb_grid_search = GridSearchCV(gb_reg, param_grid, cv=5, scoring='neg_mean_squared_error')\n",
    "\n",
    "gb_grid_search.fit(X_s, y)"
   ]
  },
  {
   "cell_type": "code",
   "execution_count": 34,
   "metadata": {},
   "outputs": [
    {
     "data": {
      "text/plain": [
       "{'max_depth': 7, 'n_estimators': 500, 'random_state': 42}"
      ]
     },
     "execution_count": 34,
     "metadata": {},
     "output_type": "execute_result"
    }
   ],
   "source": [
    "gb_grid_search.best_params_"
   ]
  },
  {
   "cell_type": "code",
   "execution_count": 35,
   "metadata": {},
   "outputs": [
    {
     "data": {
      "text/plain": [
       "0.13605815102288585"
      ]
     },
     "execution_count": 35,
     "metadata": {},
     "output_type": "execute_result"
    }
   ],
   "source": [
    "gb_grid_pred = gb_grid_search.best_estimator_.predict(X_s)\n",
    "gb_grid_mse = mean_squared_error(y, gb_grid_pred)\n",
    "gb_grid_rmse = np.sqrt(gb_grid_mse)\n",
    "gb_grid_rmse"
   ]
  },
  {
   "cell_type": "code",
   "execution_count": 36,
   "metadata": {},
   "outputs": [
    {
     "data": {
      "text/plain": [
       "RandomizedSearchCV(cv=5, error_score=nan,\n",
       "                   estimator=MLPRegressor(activation='relu', alpha=0.0001,\n",
       "                                          batch_size='auto', beta_1=0.9,\n",
       "                                          beta_2=0.999, early_stopping=False,\n",
       "                                          epsilon=1e-08,\n",
       "                                          hidden_layer_sizes=(100,),\n",
       "                                          learning_rate='constant',\n",
       "                                          learning_rate_init=0.001,\n",
       "                                          max_fun=15000, max_iter=200,\n",
       "                                          momentum=0.9, n_iter_no_change=10,\n",
       "                                          nesterovs_momentum=True, power_t=0.5,\n",
       "                                          random_...\n",
       "                                          validation_fraction=0.1,\n",
       "                                          verbose=False, warm_start=False),\n",
       "                   iid='deprecated', n_iter=10, n_jobs=-1,\n",
       "                   param_distributions={'hidden_layer_sizes': [100, (100, 100),\n",
       "                                                               (50, 50, 50),\n",
       "                                                               (20, 50, 80, 50,\n",
       "                                                                20),\n",
       "                                                               (20, 30, 50, 30,\n",
       "                                                                20, 10)],\n",
       "                                        'max_iter': [300, 1000],\n",
       "                                        'random_state': [42]},\n",
       "                   pre_dispatch='2*n_jobs', random_state=42, refit=True,\n",
       "                   return_train_score=False, scoring='neg_mean_squared_error',\n",
       "                   verbose=0)"
      ]
     },
     "execution_count": 36,
     "metadata": {},
     "output_type": "execute_result"
    }
   ],
   "source": [
    "# MLP（ランダムサーチ）\n",
    " # hidden_layer_sizes: ニューロンと層の数\n",
    " # max_iter: 訓練の回数\n",
    "param_random = {'hidden_layer_sizes': [(100),\n",
    "                                       (100, 100),\n",
    "                                       (50, 50, 50),\n",
    "                                       (20, 50, 80, 50, 20),\n",
    "                                       (20, 30, 50, 30, 20, 10)],\n",
    "                 'max_iter': [300, 1000],\n",
    "                 'random_state': [42]}\n",
    "\n",
    "mlp_reg = MLPRegressor()\n",
    "\n",
    " # n_jobs: -1は全てのプロセッサを使用する\n",
    " # n_iter: デフォルトでは１０の組み合わせとなっている\n",
    "mlp_random_search = RandomizedSearchCV(mlp_reg,\n",
    "                                       param_random,\n",
    "                                       cv=5,\n",
    "                                       n_jobs=-1,\n",
    "                                       scoring='neg_mean_squared_error',\n",
    "                                       random_state=42)\n",
    "\n",
    "mlp_random_search.fit(X_s, y)"
   ]
  },
  {
   "cell_type": "code",
   "execution_count": 37,
   "metadata": {},
   "outputs": [
    {
     "data": {
      "text/plain": [
       "{'random_state': 42, 'max_iter': 300, 'hidden_layer_sizes': 100}"
      ]
     },
     "execution_count": 37,
     "metadata": {},
     "output_type": "execute_result"
    }
   ],
   "source": [
    "mlp_random_search.best_params_"
   ]
  },
  {
   "cell_type": "code",
   "execution_count": 38,
   "metadata": {},
   "outputs": [
    {
     "data": {
      "text/plain": [
       "0.4682285084580455"
      ]
     },
     "execution_count": 38,
     "metadata": {},
     "output_type": "execute_result"
    }
   ],
   "source": [
    "mlp_random_pred = mlp_random_search.best_estimator_.predict(X_s)\n",
    "mlp_random_mse = mean_squared_error(y, mlp_random_pred)\n",
    "mlp_random_rmse = np.sqrt(mlp_random_mse)\n",
    "mlp_random_rmse"
   ]
  },
  {
   "cell_type": "code",
   "execution_count": 39,
   "metadata": {},
   "outputs": [
    {
     "data": {
      "text/html": [
       "<div>\n",
       "<style scoped>\n",
       "    .dataframe tbody tr th:only-of-type {\n",
       "        vertical-align: middle;\n",
       "    }\n",
       "\n",
       "    .dataframe tbody tr th {\n",
       "        vertical-align: top;\n",
       "    }\n",
       "\n",
       "    .dataframe thead th {\n",
       "        text-align: right;\n",
       "    }\n",
       "</style>\n",
       "<table border=\"1\" class=\"dataframe\">\n",
       "  <thead>\n",
       "    <tr style=\"text-align: right;\">\n",
       "      <th></th>\n",
       "      <th>Normal</th>\n",
       "      <th>CrossValidation</th>\n",
       "      <th>Grid_or_Random_Search</th>\n",
       "    </tr>\n",
       "  </thead>\n",
       "  <tbody>\n",
       "    <tr>\n",
       "      <th>SVM</th>\n",
       "      <td>0.497062</td>\n",
       "      <td>0.515925</td>\n",
       "      <td>0.466783</td>\n",
       "    </tr>\n",
       "    <tr>\n",
       "      <th>RandomForest</th>\n",
       "      <td>0.161979</td>\n",
       "      <td>0.439022</td>\n",
       "      <td>0.479443</td>\n",
       "    </tr>\n",
       "    <tr>\n",
       "      <th>GBoost</th>\n",
       "      <td>0.462840</td>\n",
       "      <td>0.474575</td>\n",
       "      <td>0.136058</td>\n",
       "    </tr>\n",
       "    <tr>\n",
       "      <th>MLP</th>\n",
       "      <td>0.468229</td>\n",
       "      <td>0.494212</td>\n",
       "      <td>0.468229</td>\n",
       "    </tr>\n",
       "  </tbody>\n",
       "</table>\n",
       "</div>"
      ],
      "text/plain": [
       "                Normal  CrossValidation  Grid_or_Random_Search\n",
       "SVM           0.497062         0.515925               0.466783\n",
       "RandomForest  0.161979         0.439022               0.479443\n",
       "GBoost        0.462840         0.474575               0.136058\n",
       "MLP           0.468229         0.494212               0.468229"
      ]
     },
     "execution_count": 39,
     "metadata": {},
     "output_type": "execute_result"
    }
   ],
   "source": [
    "accuracy['Grid_or_Random_Search'] = [svm_grid_rmse,\n",
    "                                     forest_grid_rmse,\n",
    "                                     gb_grid_rmse,\n",
    "                                     mlp_random_rmse]\n",
    "\n",
    "accuracy"
   ]
  },
  {
   "cell_type": "markdown",
   "metadata": {},
   "source": [
    "# 最高推定器での交差検証＆最良の機械学習モデルで最後の評価\n",
    "\n",
    "最後に、出揃った最高の各機械学習モデルを交差検証にかけて、一番最良だった機械学習モデルでテストセットでの評価を行っていきたいと思います。\n",
    "\n",
    "グリッドサーチやランダムサーチを行った推定器のbest_estimator_属性を使用して、それぞれ交差検証を行っていきます。"
   ]
  },
  {
   "cell_type": "code",
   "execution_count": 40,
   "metadata": {},
   "outputs": [
    {
     "name": "stdout",
     "output_type": "stream",
     "text": [
      "Score:  [0.50802572 0.49847396 0.50282046 0.50834014 0.5181417 ]\n",
      "\n",
      "\n",
      "Mean:  0.5071603973281643\n",
      "\n",
      "\n",
      "Standard deviation:  0.006588154003046234\n"
     ]
    }
   ],
   "source": [
    "# SVM（最高推定器での交差検証）\n",
    "svm_scores = cross_val_score(svm_grid_search.best_estimator_, X_s, y, scoring='neg_mean_squared_error', cv=5)\n",
    "\n",
    "svm_best_rmse_score = np.sqrt(-svm_scores)\n",
    "\n",
    "display_scores(svm_best_rmse_score)"
   ]
  },
  {
   "cell_type": "code",
   "execution_count": 41,
   "metadata": {},
   "outputs": [
    {
     "name": "stdout",
     "output_type": "stream",
     "text": [
      "Score:  [0.51780804 0.50198563 0.50527514 0.51992336 0.51482569]\n",
      "\n",
      "\n",
      "Mean:  0.5119635710774529\n",
      "\n",
      "\n",
      "Standard deviation:  0.0070710987015029335\n"
     ]
    }
   ],
   "source": [
    "# RandomForest（最高推定器での交差検証）\n",
    "forest_scores = cross_val_score(forest_grid_search.best_estimator_, X_s, y, scoring='neg_mean_squared_error', cv=5)\n",
    "\n",
    "forest_best_rmse_score = np.sqrt(-forest_scores)\n",
    "\n",
    "display_scores(forest_best_rmse_score)"
   ]
  },
  {
   "cell_type": "code",
   "execution_count": 42,
   "metadata": {},
   "outputs": [
    {
     "name": "stdout",
     "output_type": "stream",
     "text": [
      "Score:  [0.40707075 0.41113756 0.40215462 0.40523018 0.41699065]\n",
      "\n",
      "\n",
      "Mean:  0.4085167506258438\n",
      "\n",
      "\n",
      "Standard deviation:  0.005138966728576394\n"
     ]
    }
   ],
   "source": [
    "# GradientBoosting（最高推定器での交差検証）\n",
    "gb_scores = cross_val_score(gb_grid_search.best_estimator_, X_s, y, scoring='neg_mean_squared_error', cv=5)\n",
    "\n",
    "gb_best_rmse_score = np.sqrt(-gb_scores)\n",
    "\n",
    "display_scores(gb_best_rmse_score)"
   ]
  },
  {
   "cell_type": "code",
   "execution_count": 43,
   "metadata": {},
   "outputs": [
    {
     "name": "stdout",
     "output_type": "stream",
     "text": [
      "Score:  [0.49511224 0.48278609 0.48395667 0.5037626  0.50544144]\n",
      "\n",
      "\n",
      "Mean:  0.49421180941259424\n",
      "\n",
      "\n",
      "Standard deviation:  0.009527304188063293\n"
     ]
    }
   ],
   "source": [
    "# MLP（最高推定器での交差検証）\n",
    "mlp_scores = cross_val_score(mlp_random_search.best_estimator_, X_s, y, scoring='neg_mean_squared_error', cv=5)\n",
    "\n",
    "mlp_best_rmse_score = np.sqrt(-mlp_scores)\n",
    "\n",
    "display_scores(mlp_best_rmse_score)"
   ]
  },
  {
   "cell_type": "code",
   "execution_count": 44,
   "metadata": {},
   "outputs": [
    {
     "data": {
      "text/html": [
       "<div>\n",
       "<style scoped>\n",
       "    .dataframe tbody tr th:only-of-type {\n",
       "        vertical-align: middle;\n",
       "    }\n",
       "\n",
       "    .dataframe tbody tr th {\n",
       "        vertical-align: top;\n",
       "    }\n",
       "\n",
       "    .dataframe thead th {\n",
       "        text-align: right;\n",
       "    }\n",
       "</style>\n",
       "<table border=\"1\" class=\"dataframe\">\n",
       "  <thead>\n",
       "    <tr style=\"text-align: right;\">\n",
       "      <th></th>\n",
       "      <th>Normal</th>\n",
       "      <th>CrossValidation</th>\n",
       "      <th>Grid_or_Random_Search</th>\n",
       "      <th>Search_CV</th>\n",
       "    </tr>\n",
       "  </thead>\n",
       "  <tbody>\n",
       "    <tr>\n",
       "      <th>SVM</th>\n",
       "      <td>0.497062</td>\n",
       "      <td>0.515925</td>\n",
       "      <td>0.466783</td>\n",
       "      <td>0.507160</td>\n",
       "    </tr>\n",
       "    <tr>\n",
       "      <th>RandomForest</th>\n",
       "      <td>0.161979</td>\n",
       "      <td>0.439022</td>\n",
       "      <td>0.479443</td>\n",
       "      <td>0.511964</td>\n",
       "    </tr>\n",
       "    <tr>\n",
       "      <th>GBoost</th>\n",
       "      <td>0.462840</td>\n",
       "      <td>0.474575</td>\n",
       "      <td>0.136058</td>\n",
       "      <td>0.408517</td>\n",
       "    </tr>\n",
       "    <tr>\n",
       "      <th>MLP</th>\n",
       "      <td>0.468229</td>\n",
       "      <td>0.494212</td>\n",
       "      <td>0.468229</td>\n",
       "      <td>0.494212</td>\n",
       "    </tr>\n",
       "  </tbody>\n",
       "</table>\n",
       "</div>"
      ],
      "text/plain": [
       "                Normal  CrossValidation  Grid_or_Random_Search  Search_CV\n",
       "SVM           0.497062         0.515925               0.466783   0.507160\n",
       "RandomForest  0.161979         0.439022               0.479443   0.511964\n",
       "GBoost        0.462840         0.474575               0.136058   0.408517\n",
       "MLP           0.468229         0.494212               0.468229   0.494212"
      ]
     },
     "execution_count": 44,
     "metadata": {},
     "output_type": "execute_result"
    }
   ],
   "source": [
    "accuracy['Search_CV'] = [svm_best_rmse_score.mean(),\n",
    "                         forest_best_rmse_score.mean(),\n",
    "                         gb_best_rmse_score.mean(),\n",
    "                         mlp_best_rmse_score.mean()]\n",
    "\n",
    "accuracy"
   ]
  },
  {
   "cell_type": "code",
   "execution_count": 45,
   "metadata": {},
   "outputs": [
    {
     "data": {
      "text/plain": [
       "GBoost          0.370498\n",
       "RandomForest    0.398102\n",
       "MLP             0.481220\n",
       "SVM             0.496733\n",
       "dtype: float64"
      ]
     },
     "execution_count": 45,
     "metadata": {},
     "output_type": "execute_result"
    }
   ],
   "source": [
    "# 平均をだす\n",
    "accuracy.mean(axis=1).sort_values()"
   ]
  },
  {
   "cell_type": "code",
   "execution_count": 46,
   "metadata": {},
   "outputs": [
    {
     "data": {
      "image/png": "[encoded data removed]",
      "text/plain": [
       "<Figure size 720x576 with 1 Axes>"
      ]
     },
     "metadata": {},
     "output_type": "display_data"
    }
   ],
   "source": [
    "plt.figure(figsize=(10, 8))\n",
    "sns.residplot(gb_grid_pred, y - gb_grid_pred)\n",
    "plt.savefig('gb_train_resid.png')\n",
    "plt.show()"
   ]
  },
  {
   "cell_type": "markdown",
   "metadata": {},
   "source": [
    "# 最も最良であるモデルを使う"
   ]
  },
  {
   "cell_type": "code",
   "execution_count": 47,
   "metadata": {},
   "outputs": [
    {
     "data": {
      "text/plain": [
       "0.3935778643820838"
      ]
     },
     "execution_count": 47,
     "metadata": {},
     "output_type": "execute_result"
    }
   ],
   "source": [
    "X_test, y_test = custom_conversion(test_set)\n",
    "\n",
    "X_test_s = scaler.transform(X_test)\n",
    "\n",
    "best_pred = gb_grid_search.best_estimator_.predict(X_test_s)\n",
    "best_mse = mean_squared_error(y_test, best_pred)\n",
    "best_rmse = np.sqrt(best_mse)\n",
    "best_rmse"
   ]
  },
  {
   "cell_type": "code",
   "execution_count": 48,
   "metadata": {},
   "outputs": [
    {
     "data": {
      "image/png": "[encoded data removed]",
      "text/plain": [
       "<Figure size 720x576 with 1 Axes>"
      ]
     },
     "metadata": {},
     "output_type": "display_data"
    }
   ],
   "source": [
    "plt.figure(figsize=(10, 8))\n",
    "sns.residplot(best_pred, y_test - best_pred)\n",
    "plt.savefig('gb_test_resid.png')\n",
    "plt.show()"
   ]
  },
  {
   "cell_type": "markdown",
   "metadata": {},
   "source": [
    "# 最良のモデルをpickleファイルに保存"
   ]
  },
  {
   "cell_type": "code",
   "execution_count": 49,
   "metadata": {},
   "outputs": [],
   "source": [
    "import pickle\n",
    "\n",
    "with open('best_model.pickle', 'wb') as f:\n",
    "    pickle.dump(gb_grid_search.best_estimator_, f)"
   ]
  },
  {
   "cell_type": "code",
   "execution_count": 50,
   "metadata": {},
   "outputs": [
    {
     "data": {
      "text/plain": [
       "GradientBoostingRegressor(alpha=0.9, ccp_alpha=0.0, criterion='friedman_mse',\n",
       "                          init=None, learning_rate=0.1, loss='ls', max_depth=7,\n",
       "                          max_features=None, max_leaf_nodes=None,\n",
       "                          min_impurity_decrease=0.0, min_impurity_split=None,\n",
       "                          min_samples_leaf=1, min_samples_split=2,\n",
       "                          min_weight_fraction_leaf=0.0, n_estimators=500,\n",
       "                          n_iter_no_change=None, presort='deprecated',\n",
       "                          random_state=42, subsample=1.0, tol=0.0001,\n",
       "                          validation_fraction=0.1, verbose=0, warm_start=False)"
      ]
     },
     "execution_count": 50,
     "metadata": {},
     "output_type": "execute_result"
    }
   ],
   "source": [
    "with open('best_model.pickle', 'rb') as f:\n",
    "    best_model = pickle.load(f)\n",
    "\n",
    "best_model"
   ]
  },
  {
   "cell_type": "code",
   "execution_count": null,
   "metadata": {},
   "outputs": [],
   "source": []
  }
 ],
 "metadata": {
  "kernelspec": {
   "display_name": "Python 3",
   "language": "python",
   "name": "python3"
  },
  "language_info": {
   "codemirror_mode": {
    "name": "ipython",
    "version": 3
   },
   "file_extension": ".py",
   "mimetype": "text/x-python",
   "name": "python",
   "nbconvert_exporter": "python",
   "pygments_lexer": "ipython3",
   "version": "3.7.6"
  }
 },
 "nbformat": 4,
 "nbformat_minor": 4
}
